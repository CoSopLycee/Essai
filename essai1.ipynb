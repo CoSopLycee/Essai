{
 "cells": [
  {
   "cell_type": "markdown",
   "id": "04f70b65",
   "metadata": {},
   "source": [
    "## Grand titre"
   ]
  },
  {
   "cell_type": "markdown",
   "id": "c95f6d7e",
   "metadata": {},
   "source": [
    "# petit titre\n",
    "\n",
    "blablabla"
   ]
  },
  {
   "cell_type": "code",
   "execution_count": 1,
   "id": "5a460765",
   "metadata": {},
   "outputs": [
    {
     "name": "stdout",
     "output_type": "stream",
     "text": [
      "ici c'est du python\n"
     ]
    }
   ],
   "source": [
    "print(\"ici c'est du python\")"
   ]
  },
  {
   "cell_type": "markdown",
   "id": "c21de353",
   "metadata": {},
   "source": [
    "il faut juste apprendre le Markdown...\n"
   ]
  },
  {
   "cell_type": "code",
   "execution_count": null,
   "id": "e6af5c8e",
   "metadata": {},
   "outputs": [],
   "source": []
  }
 ],
 "metadata": {
  "kernelspec": {
   "display_name": "Python 3 (ipykernel)",
   "language": "python",
   "name": "python3"
  },
  "language_info": {
   "codemirror_mode": {
    "name": "ipython",
    "version": 3
   },
   "file_extension": ".py",
   "mimetype": "text/x-python",
   "name": "python",
   "nbconvert_exporter": "python",
   "pygments_lexer": "ipython3",
   "version": "3.9.7"
  }
 },
 "nbformat": 4,
 "nbformat_minor": 5
}
